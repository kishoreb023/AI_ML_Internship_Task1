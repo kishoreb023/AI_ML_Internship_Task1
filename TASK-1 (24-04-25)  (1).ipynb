{
 "cells": [
  {
   "cell_type": "markdown",
   "id": "e069f5a4-cff3-4791-ad5e-c5f1c93f3870",
   "metadata": {},
   "source": [
    "# 🚀 AI & ML Internship - Task 1: Data Cleaning & Preprocessing\n",
    "## Dataset: Titanic Dataset\n",
    "### 🎯 Objective:\n",
    "To clean and preprocess the Titanic dataset for use in machine learning models.\n"
   ]
  },
  {
   "cell_type": "code",
   "execution_count": 1,
   "id": "0ef0ecb8-3599-414e-9344-a237d38dde37",
   "metadata": {},
   "outputs": [],
   "source": [
    "import pandas as pd\n",
    "import numpy as np\n",
    "import matplotlib.pyplot as plt\n",
    "import seaborn as sns\n",
    "from sklearn.preprocessing import StandardScaler\n"
   ]
  },
  {
   "cell_type": "markdown",
   "id": "bcd557a3-99b7-4e16-bee2-e4b7c226f069",
   "metadata": {},
   "source": [
    "## 🗂 Step 1: Load & Explore the Dataset\n",
    "Let's load the dataset and check for nulls, data types, and basic statistics.\n"
   ]
  },
  {
   "cell_type": "code",
   "execution_count": 3,
   "id": "334ace90-655f-4e9a-94b7-987f4c18e090",
   "metadata": {},
   "outputs": [
    {
     "data": {
      "text/html": [
       "<div>\n",
       "<style scoped>\n",
       "    .dataframe tbody tr th:only-of-type {\n",
       "        vertical-align: middle;\n",
       "    }\n",
       "\n",
       "    .dataframe tbody tr th {\n",
       "        vertical-align: top;\n",
       "    }\n",
       "\n",
       "    .dataframe thead th {\n",
       "        text-align: right;\n",
       "    }\n",
       "</style>\n",
       "<table border=\"1\" class=\"dataframe\">\n",
       "  <thead>\n",
       "    <tr style=\"text-align: right;\">\n",
       "      <th></th>\n",
       "      <th>PassengerId</th>\n",
       "      <th>Survived</th>\n",
       "      <th>Pclass</th>\n",
       "      <th>Name</th>\n",
       "      <th>Sex</th>\n",
       "      <th>Age</th>\n",
       "      <th>SibSp</th>\n",
       "      <th>Parch</th>\n",
       "      <th>Ticket</th>\n",
       "      <th>Fare</th>\n",
       "      <th>Cabin</th>\n",
       "      <th>Embarked</th>\n",
       "    </tr>\n",
       "  </thead>\n",
       "  <tbody>\n",
       "    <tr>\n",
       "      <th>0</th>\n",
       "      <td>1</td>\n",
       "      <td>0</td>\n",
       "      <td>3</td>\n",
       "      <td>Braund, Mr. Owen Harris</td>\n",
       "      <td>male</td>\n",
       "      <td>22.0</td>\n",
       "      <td>1</td>\n",
       "      <td>0</td>\n",
       "      <td>A/5 21171</td>\n",
       "      <td>7.2500</td>\n",
       "      <td>NaN</td>\n",
       "      <td>S</td>\n",
       "    </tr>\n",
       "    <tr>\n",
       "      <th>1</th>\n",
       "      <td>2</td>\n",
       "      <td>1</td>\n",
       "      <td>1</td>\n",
       "      <td>Cumings, Mrs. John Bradley (Florence Briggs Th...</td>\n",
       "      <td>female</td>\n",
       "      <td>38.0</td>\n",
       "      <td>1</td>\n",
       "      <td>0</td>\n",
       "      <td>PC 17599</td>\n",
       "      <td>71.2833</td>\n",
       "      <td>C85</td>\n",
       "      <td>C</td>\n",
       "    </tr>\n",
       "    <tr>\n",
       "      <th>2</th>\n",
       "      <td>3</td>\n",
       "      <td>1</td>\n",
       "      <td>3</td>\n",
       "      <td>Heikkinen, Miss. Laina</td>\n",
       "      <td>female</td>\n",
       "      <td>26.0</td>\n",
       "      <td>0</td>\n",
       "      <td>0</td>\n",
       "      <td>STON/O2. 3101282</td>\n",
       "      <td>7.9250</td>\n",
       "      <td>NaN</td>\n",
       "      <td>S</td>\n",
       "    </tr>\n",
       "    <tr>\n",
       "      <th>3</th>\n",
       "      <td>4</td>\n",
       "      <td>1</td>\n",
       "      <td>1</td>\n",
       "      <td>Futrelle, Mrs. Jacques Heath (Lily May Peel)</td>\n",
       "      <td>female</td>\n",
       "      <td>35.0</td>\n",
       "      <td>1</td>\n",
       "      <td>0</td>\n",
       "      <td>113803</td>\n",
       "      <td>53.1000</td>\n",
       "      <td>C123</td>\n",
       "      <td>S</td>\n",
       "    </tr>\n",
       "    <tr>\n",
       "      <th>4</th>\n",
       "      <td>5</td>\n",
       "      <td>0</td>\n",
       "      <td>3</td>\n",
       "      <td>Allen, Mr. William Henry</td>\n",
       "      <td>male</td>\n",
       "      <td>35.0</td>\n",
       "      <td>0</td>\n",
       "      <td>0</td>\n",
       "      <td>373450</td>\n",
       "      <td>8.0500</td>\n",
       "      <td>NaN</td>\n",
       "      <td>S</td>\n",
       "    </tr>\n",
       "  </tbody>\n",
       "</table>\n",
       "</div>"
      ],
      "text/plain": [
       "   PassengerId  Survived  Pclass  \\\n",
       "0            1         0       3   \n",
       "1            2         1       1   \n",
       "2            3         1       3   \n",
       "3            4         1       1   \n",
       "4            5         0       3   \n",
       "\n",
       "                                                Name     Sex   Age  SibSp  \\\n",
       "0                            Braund, Mr. Owen Harris    male  22.0      1   \n",
       "1  Cumings, Mrs. John Bradley (Florence Briggs Th...  female  38.0      1   \n",
       "2                             Heikkinen, Miss. Laina  female  26.0      0   \n",
       "3       Futrelle, Mrs. Jacques Heath (Lily May Peel)  female  35.0      1   \n",
       "4                           Allen, Mr. William Henry    male  35.0      0   \n",
       "\n",
       "   Parch            Ticket     Fare Cabin Embarked  \n",
       "0      0         A/5 21171   7.2500   NaN        S  \n",
       "1      0          PC 17599  71.2833   C85        C  \n",
       "2      0  STON/O2. 3101282   7.9250   NaN        S  \n",
       "3      0            113803  53.1000  C123        S  \n",
       "4      0            373450   8.0500   NaN        S  "
      ]
     },
     "execution_count": 3,
     "metadata": {},
     "output_type": "execute_result"
    }
   ],
   "source": [
    "df = pd.read_csv(\"Titanic-Dataset.csv\")\n",
    "df.head()\n"
   ]
  },
  {
   "cell_type": "code",
   "execution_count": 4,
   "id": "e7b73c70-93e5-4e7a-8759-9ede5ef8f70d",
   "metadata": {},
   "outputs": [
    {
     "name": "stdout",
     "output_type": "stream",
     "text": [
      "<class 'pandas.core.frame.DataFrame'>\n",
      "RangeIndex: 891 entries, 0 to 890\n",
      "Data columns (total 12 columns):\n",
      " #   Column       Non-Null Count  Dtype  \n",
      "---  ------       --------------  -----  \n",
      " 0   PassengerId  891 non-null    int64  \n",
      " 1   Survived     891 non-null    int64  \n",
      " 2   Pclass       891 non-null    int64  \n",
      " 3   Name         891 non-null    object \n",
      " 4   Sex          891 non-null    object \n",
      " 5   Age          714 non-null    float64\n",
      " 6   SibSp        891 non-null    int64  \n",
      " 7   Parch        891 non-null    int64  \n",
      " 8   Ticket       891 non-null    object \n",
      " 9   Fare         891 non-null    float64\n",
      " 10  Cabin        204 non-null    object \n",
      " 11  Embarked     889 non-null    object \n",
      "dtypes: float64(2), int64(5), object(5)\n",
      "memory usage: 83.7+ KB\n"
     ]
    },
    {
     "data": {
      "text/plain": [
       "PassengerId      0\n",
       "Survived         0\n",
       "Pclass           0\n",
       "Name             0\n",
       "Sex              0\n",
       "Age            177\n",
       "SibSp            0\n",
       "Parch            0\n",
       "Ticket           0\n",
       "Fare             0\n",
       "Cabin          687\n",
       "Embarked         2\n",
       "dtype: int64"
      ]
     },
     "execution_count": 4,
     "metadata": {},
     "output_type": "execute_result"
    }
   ],
   "source": [
    "df.info()\n",
    "df.describe()\n",
    "df.isnull().sum()\n"
   ]
  },
  {
   "cell_type": "markdown",
   "id": "54a30658-2ef8-4439-a1f4-c974829db60c",
   "metadata": {},
   "source": [
    "## 🧼 Step 2: Handle Missing Values\n",
    "We will:\n",
    "- Fill missing `Age` with median.\n",
    "- Fill missing `Embarked` with mode.\n",
    "- Drop the `Cabin` column due to too many missing values.\n"
   ]
  },
  {
   "cell_type": "code",
   "execution_count": 6,
   "id": "d6da5b0f-30d9-46c4-831c-051f41d65bb6",
   "metadata": {},
   "outputs": [],
   "source": [
    "df['Age'] = df['Age'].fillna(df['Age'].median())\n",
    "df['Embarked'] = df['Embarked'].fillna(df['Embarked'].mode()[0])\n"
   ]
  },
  {
   "cell_type": "markdown",
   "id": "4ca6323a-c702-4669-85ca-17831abfe99d",
   "metadata": {},
   "source": [
    "## 🔡 Step 3: Encode Categorical Features\n",
    "Convert `Sex` and `Embarked` columns into numerical using One-Hot Encoding.\n"
   ]
  },
  {
   "cell_type": "code",
   "execution_count": 7,
   "id": "910d9448-c047-4aa6-834b-99ac91f5d962",
   "metadata": {},
   "outputs": [],
   "source": [
    "df = pd.get_dummies(df, columns=['Sex', 'Embarked'], drop_first=True)\n"
   ]
  },
  {
   "cell_type": "markdown",
   "id": "63d9f2d6-8653-4a37-bc79-21460124ee83",
   "metadata": {},
   "source": [
    "## 📏 Step 4: Normalize Numerical Features\n",
    "We'll standardize `Age` and `Fare` using `StandardScaler`.\n"
   ]
  },
  {
   "cell_type": "code",
   "execution_count": 8,
   "id": "5a02bd07-4d80-4e67-b819-a06263c01132",
   "metadata": {},
   "outputs": [],
   "source": [
    "scaler = StandardScaler()\n",
    "df[['Age', 'Fare']] = scaler.fit_transform(df[['Age', 'Fare']])\n"
   ]
  },
  {
   "cell_type": "markdown",
   "id": "e69296e9-c8b2-44c5-8aaf-82d7d5ab6ad9",
   "metadata": {},
   "source": [
    "## 📊 Step 5: Detect & Remove Outliers\n",
    "Use IQR method on the `Fare` column to detect and remove outliers.\n"
   ]
  },
  {
   "cell_type": "code",
   "execution_count": 9,
   "id": "48c64c4a-9a11-4eb1-9954-c421cc0eb25e",
   "metadata": {},
   "outputs": [
    {
     "data": {
      "image/png": "[encoded data removed]",
      "text/plain": [
       "<Figure size 640x480 with 1 Axes>"
      ]
     },
     "metadata": {},
     "output_type": "display_data"
    }
   ],
   "source": [
    "sns.boxplot(df['Fare'])\n",
    "plt.title(\"Boxplot of Fare\")\n",
    "plt.show()\n",
    "\n",
    "Q1 = df['Fare'].quantile(0.25)\n",
    "Q3 = df['Fare'].quantile(0.75)\n",
    "IQR = Q3 - Q1\n",
    "df = df[(df['Fare'] >= Q1 - 1.5 * IQR) & (df['Fare'] <= Q3 + 1.5 * IQR)]\n"
   ]
  },
  {
   "cell_type": "markdown",
   "id": "45ee1257-2e02-47ba-8e75-e93ee3cfb52d",
   "metadata": {},
   "source": [
    "## 💾 Step 6: Save Cleaned Dataset\n",
    "We'll save the cleaned and preprocessed dataset as a new CSV file.\n"
   ]
  },
  {
   "cell_type": "code",
   "execution_count": 10,
   "id": "f6a5e45e-331d-4028-b79d-ca82ef453011",
   "metadata": {},
   "outputs": [
    {
     "name": "stdout",
     "output_type": "stream",
     "text": [
      "✅ Dataset saved as titanic_cleaned.csv\n"
     ]
    }
   ],
   "source": [
    "df.to_csv(\"titanic_cleaned.csv\", index=False)\n",
    "print(\"✅ Dataset saved as titanic_cleaned.csv\")\n"
   ]
  },
  {
   "cell_type": "markdown",
   "id": "651c0d03-bdaf-4bd0-9ac3-1f5f578b5f96",
   "metadata": {},
   "source": [
    "## ✅ Conclusion:\n",
    "- Missing values handled successfully.\n",
    "- Applied encoding on categorical data.\n",
    "- Scaled numerical features.\n",
    "- Removed outliers using IQR method.\n",
    "- Ready for ML modeling!\n",
    "\n",
    "> 🔗 Now push this notebook, CSV file, and README to GitHub for submission.\n"
   ]
  },
  {
   "cell_type": "markdown",
   "id": "80290ac3-fafc-4ed0-8e5f-2d45e4a87354",
   "metadata": {},
   "source": [
    "## 📋 Final Checklist Before Submission\n",
    "\n",
    "- [x] Data loaded and cleaned\n",
    "- [x] Missing values handled\n",
    "- [x] Categorical variables encoded\n",
    "- [x] Features normalized/standardized\n",
    "- [x] Outliers visualized and removed\n",
    "- [x] Cleaned dataset saved\n",
    "- [x] Notebook properly explained with markdowns\n"
   ]
  },
  {
   "cell_type": "code",
   "execution_count": 11,
   "id": "294f8f53-9fd3-4c24-a8a4-943ba1bcd7a9",
   "metadata": {},
   "outputs": [
    {
     "name": "stdout",
     "output_type": "stream",
     "text": [
      "Missing Data:\n",
      " PassengerId    0\n",
      "Survived       0\n",
      "Pclass         0\n",
      "Name           0\n",
      "Age            0\n",
      "SibSp          0\n",
      "Parch          0\n",
      "Ticket         0\n",
      "Fare           0\n",
      "Sex_male       0\n",
      "Embarked_Q     0\n",
      "Embarked_S     0\n",
      "dtype: int64\n",
      "Great! No missing values.\n"
     ]
    }
   ],
   "source": [
    "missing_data = df.isnull().sum()\n",
    "print(\"Missing Data:\\n\", missing_data)\n",
    "\n",
    "if missing_data.sum() == 0:\n",
    "    print(\"Great! No missing values.\")\n",
    "else:\n",
    "    print(\"Some columns still have missing values.\")\n"
   ]
  },
  {
   "cell_type": "code",
   "execution_count": 12,
   "id": "24a4fe72-98b9-4157-9c6b-1955616e3b68",
   "metadata": {},
   "outputs": [
    {
     "name": "stdout",
     "output_type": "stream",
     "text": [
      "Data Types:\n",
      " PassengerId      int64\n",
      "Survived         int64\n",
      "Pclass           int64\n",
      "Name            object\n",
      "Age            float64\n",
      "SibSp            int64\n",
      "Parch            int64\n",
      "Ticket          object\n",
      "Fare           float64\n",
      "Sex_male          bool\n",
      "Embarked_Q        bool\n",
      "Embarked_S        bool\n",
      "dtype: object\n"
     ]
    }
   ],
   "source": [
    "# Check data types of all columns\n",
    "print(\"Data Types:\\n\", df.dtypes)"
   ]
  },
  {
   "cell_type": "code",
   "execution_count": 13,
   "id": "dd6632a8-3ecb-4fe3-b465-a90e05b3f00c",
   "metadata": {},
   "outputs": [
    {
     "name": "stdout",
     "output_type": "stream",
     "text": [
      "Number of duplicate rows: 0\n"
     ]
    }
   ],
   "source": [
    "# Check for duplicate rows\n",
    "duplicates = df.duplicated().sum()\n",
    "print(f\"Number of duplicate rows: {duplicates}\")\n",
    "\n",
    "# Drop duplicates if necessary\n",
    "df.drop_duplicates(inplace=True)\n"
   ]
  },
  {
   "cell_type": "code",
   "execution_count": 14,
   "id": "d1ca6af6-da56-4b51-ace8-d7a6559483df",
   "metadata": {},
   "outputs": [
    {
     "data": {
      "image/png": "[encoded data removed]",
      "text/plain": [
       "<Figure size 640x480 with 1 Axes>"
      ]
     },
     "metadata": {},
     "output_type": "display_data"
    }
   ],
   "source": [
    "# Use boxplot to check for outliers\n",
    "import seaborn as sns\n",
    "import matplotlib.pyplot as plt\n",
    "\n",
    "sns.boxplot(x=df['Age'])\n",
    "plt.show()\n",
    "\n",
    "\n",
    "Q1 = df['Age'].quantile(0.25)\n",
    "Q3 = df['Age'].quantile(0.75)\n",
    "IQR = Q3 - Q1\n",
    "\n",
    "# Filter out rows with outliers\n",
    "df_cleaned = df[(df['Age'] >= (Q1 - 1.5 * IQR)) & (df['Age'] <= (Q3 + 1.5 * IQR))]\n"
   ]
  },
  {
   "cell_type": "code",
   "execution_count": 16,
   "id": "e0cc8bc2-c523-41f0-b66e-f818e1ed9eab",
   "metadata": {},
   "outputs": [
    {
     "name": "stdout",
     "output_type": "stream",
     "text": [
      "Unique values in 'Sex_male': [ True False]\n",
      "Unique values in 'Embarked_Q': [False  True]\n",
      "Unique values in 'Embarked_S': [ True False]\n"
     ]
    }
   ],
   "source": [
    "# Check unique values in encoded columns\n",
    "print(\"Unique values in 'Sex_male':\", df['Sex_male'].unique())\n",
    "print(\"Unique values in 'Embarked_Q':\", df['Embarked_Q'].unique())\n",
    "print(\"Unique values in 'Embarked_S':\", df['Embarked_S'].unique())\n"
   ]
  },
  {
   "cell_type": "code",
   "execution_count": 17,
   "id": "0fddfc27-3dde-49e1-b876-b87d6b1ce2ab",
   "metadata": {},
   "outputs": [
    {
     "name": "stdout",
     "output_type": "stream",
     "text": [
      "Standardized 'Age' and 'Fare' columns:\n",
      "                 Age          Fare\n",
      "count  7.750000e+02  7.750000e+02\n",
      "mean  -1.833659e-17 -9.168293e-17\n",
      "std    1.000646e+00  1.000646e+00\n",
      "min   -2.217707e+00 -1.313411e+00\n",
      "25%   -5.283213e-01 -7.315244e-01\n",
      "50%   -5.861258e-02 -3.553671e-01\n",
      "75%    4.110961e-01  6.026763e-01\n",
      "max    4.012196e+00  3.476807e+00\n"
     ]
    }
   ],
   "source": [
    "\n",
    "from sklearn.preprocessing import StandardScaler\n",
    "\n",
    "scaler = StandardScaler()\n",
    "\n",
    "# Standardize 'Age' and 'Fare' columns\n",
    "df[['Age', 'Fare']] = scaler.fit_transform(df[['Age', 'Fare']])\n",
    "\n",
    "# Check if values are now in the correct range (mean = 0, std = 1)\n",
    "print(\"Standardized 'Age' and 'Fare' columns:\\n\", df[['Age', 'Fare']].describe())\n"
   ]
  },
  {
   "cell_type": "code",
   "execution_count": 18,
   "id": "f1c22c7a-c5c5-439c-9ab2-899528415e58",
   "metadata": {},
   "outputs": [
    {
     "name": "stdout",
     "output_type": "stream",
     "text": [
      "Check for invalid 'Age' values (e.g., negative):      PassengerId  Survived  Pclass  \\\n",
      "0              1         0       3   \n",
      "2              3         1       3   \n",
      "5              6         0       3   \n",
      "7              8         0       3   \n",
      "8              9         1       3   \n",
      "..           ...       ...     ...   \n",
      "884          885         0       3   \n",
      "886          887         0       2   \n",
      "887          888         1       1   \n",
      "888          889         0       3   \n",
      "889          890         1       1   \n",
      "\n",
      "                                                  Name       Age  SibSp  \\\n",
      "0                              Braund, Mr. Owen Harris -0.528321      1   \n",
      "2                               Heikkinen, Miss. Laina -0.215182      0   \n",
      "5                                     Moran, Mr. James -0.058613      0   \n",
      "7                       Palsson, Master. Gosta Leonard -2.094017      3   \n",
      "8    Johnson, Mrs. Oscar W (Elisabeth Vilhelmina Berg) -0.136897      0   \n",
      "..                                                 ...       ...    ...   \n",
      "884                             Sutehall, Mr. Henry Jr -0.293467      0   \n",
      "886                              Montvila, Rev. Juozas -0.136897      0   \n",
      "887                       Graham, Miss. Margaret Edith -0.763176      0   \n",
      "888           Johnston, Miss. Catherine Helen \"Carrie\" -0.058613      1   \n",
      "889                              Behr, Mr. Karl Howell -0.215182      0   \n",
      "\n",
      "     Parch            Ticket      Fare  Sex_male  Embarked_Q  Embarked_S  \n",
      "0        0         A/5 21171 -0.779117      True       False        True  \n",
      "2        0  STON/O2. 3101282 -0.729373     False       False        True  \n",
      "5        0            330877 -0.690071      True        True       False  \n",
      "7        1            349909  0.239725      True       False        True  \n",
      "8        2            347742 -0.492935     False       False        True  \n",
      "..     ...               ...       ...       ...         ...         ...  \n",
      "884      0   SOTON/OQ 392076 -0.793856      True       False        True  \n",
      "886      0            211536 -0.355367      True       False        True  \n",
      "887      0            112053  0.897459     False       False        True  \n",
      "888      2        W./C. 6607  0.414752     False       False        True  \n",
      "889      0            111369  0.897459      True       False       False  \n",
      "\n",
      "[487 rows x 12 columns]\n",
      "Check for invalid 'Fare' values (e.g., negative):      PassengerId  Survived  Pclass  \\\n",
      "0              1         0       3   \n",
      "2              3         1       3   \n",
      "4              5         0       3   \n",
      "5              6         0       3   \n",
      "8              9         1       3   \n",
      "..           ...       ...     ...   \n",
      "882          883         0       3   \n",
      "883          884         0       2   \n",
      "884          885         0       3   \n",
      "886          887         0       2   \n",
      "890          891         0       3   \n",
      "\n",
      "                                                  Name       Age  SibSp  \\\n",
      "0                              Braund, Mr. Owen Harris -0.528321      1   \n",
      "2                               Heikkinen, Miss. Laina -0.215182      0   \n",
      "4                             Allen, Mr. William Henry  0.489381      0   \n",
      "5                                     Moran, Mr. James -0.058613      0   \n",
      "8    Johnson, Mrs. Oscar W (Elisabeth Vilhelmina Berg) -0.136897      0   \n",
      "..                                                 ...       ...    ...   \n",
      "882                       Dahlberg, Miss. Gerda Ulrika -0.528321      0   \n",
      "883                      Banfield, Mr. Frederick James -0.058613      0   \n",
      "884                             Sutehall, Mr. Henry Jr -0.293467      0   \n",
      "886                              Montvila, Rev. Juozas -0.136897      0   \n",
      "890                                Dooley, Mr. Patrick  0.254527      0   \n",
      "\n",
      "     Parch            Ticket      Fare  Sex_male  Embarked_Q  Embarked_S  \n",
      "0        0         A/5 21171 -0.779117      True       False        True  \n",
      "2        0  STON/O2. 3101282 -0.729373     False       False        True  \n",
      "4        0            373450 -0.720161      True       False        True  \n",
      "5        0            330877 -0.690071      True        True       False  \n",
      "8        2            347742 -0.492935     False       False        True  \n",
      "..     ...               ...       ...       ...         ...         ...  \n",
      "882      0              7552 -0.538375     False       False        True  \n",
      "883      0  C.A./SOTON 34068 -0.539606      True       False        True  \n",
      "884      0   SOTON/OQ 392076 -0.793856      True       False        True  \n",
      "886      0            211536 -0.355367      True       False        True  \n",
      "890      0            370376 -0.742269      True        True       False  \n",
      "\n",
      "[499 rows x 12 columns]\n"
     ]
    }
   ],
   "source": [
    "# Check for any invalid values in 'Age' or 'Fare'\n",
    "print(\"Check for invalid 'Age' values (e.g., negative):\", df[df['Age'] < 0])\n",
    "print(\"Check for invalid 'Fare' values (e.g., negative):\", df[df['Fare'] < 0])\n"
   ]
  },
  {
   "cell_type": "code",
   "execution_count": 20,
   "id": "66ee101e-68af-4fa0-a06a-6d9033712273",
   "metadata": {},
   "outputs": [
    {
     "name": "stdout",
     "output_type": "stream",
     "text": [
      "Correlation Matrix:\n",
      "              PassengerId  Survived    Pclass       Age     SibSp     Parch  \\\n",
      "PassengerId     1.000000 -0.024438 -0.045179  0.016537 -0.080426 -0.015117   \n",
      "Survived       -0.024438  1.000000 -0.238532 -0.118009 -0.003156  0.098575   \n",
      "Pclass         -0.045179 -0.238532  1.000000 -0.349607  0.113943  0.083451   \n",
      "Age             0.016537 -0.118009 -0.349607  1.000000 -0.335000 -0.204181   \n",
      "SibSp          -0.080426 -0.003156  0.113943 -0.335000  1.000000  0.410182   \n",
      "Parch          -0.015117  0.098575  0.083451 -0.204181  0.410182  1.000000   \n",
      "Fare            0.002942  0.234422 -0.589776  0.085716  0.370388  0.336844   \n",
      "\n",
      "                 Fare  \n",
      "PassengerId  0.002942  \n",
      "Survived     0.234422  \n",
      "Pclass      -0.589776  \n",
      "Age          0.085716  \n",
      "SibSp        0.370388  \n",
      "Parch        0.336844  \n",
      "Fare         1.000000  \n"
     ]
    },
    {
     "data": {
      "image/png": "[encoded data removed]",
      "text/plain": [
       "<Figure size 640x480 with 2 Axes>"
      ]
     },
     "metadata": {},
     "output_type": "display_data"
    }
   ],
   "source": [
    "# Select only numeric columns for correlation\n",
    "numerical_cols = df.select_dtypes(include=[np.number])\n",
    "\n",
    "# Calculate the correlation matrix for numerical columns\n",
    "correlation_matrix = numerical_cols.corr()\n",
    "print(\"Correlation Matrix:\\n\", correlation_matrix)\n",
    "\n",
    "# Plot the correlation heatmap\n",
    "import seaborn as sns\n",
    "import matplotlib.pyplot as plt\n",
    "\n",
    "sns.heatmap(correlation_matrix, annot=True, cmap='coolwarm')\n",
    "plt.show()\n"
   ]
  },
  {
   "cell_type": "code",
   "execution_count": 23,
   "id": "eefd0879-7e2e-46f4-b53b-da488862a43c",
   "metadata": {},
   "outputs": [
    {
     "name": "stdout",
     "output_type": "stream",
     "text": [
      "Class distribution for 'Survived':\n",
      " Survived\n",
      "0    512\n",
      "1    263\n",
      "Name: count, dtype: int64\n"
     ]
    }
   ],
   "source": [
    "\n",
    "print(\"Class distribution for 'Survived':\\n\", df['Survived'].value_counts())\n"
   ]
  },
  {
   "cell_type": "code",
   "execution_count": 22,
   "id": "5d0e627a-dd9d-4734-a7b6-949163bb9396",
   "metadata": {},
   "outputs": [
    {
     "name": "stdout",
     "output_type": "stream",
     "text": [
      "Final Dataset Summary:\n",
      "<class 'pandas.core.frame.DataFrame'>\n",
      "Index: 775 entries, 0 to 890\n",
      "Data columns (total 12 columns):\n",
      " #   Column       Non-Null Count  Dtype  \n",
      "---  ------       --------------  -----  \n",
      " 0   PassengerId  775 non-null    int64  \n",
      " 1   Survived     775 non-null    int64  \n",
      " 2   Pclass       775 non-null    int64  \n",
      " 3   Name         775 non-null    object \n",
      " 4   Age          775 non-null    float64\n",
      " 5   SibSp        775 non-null    int64  \n",
      " 6   Parch        775 non-null    int64  \n",
      " 7   Ticket       775 non-null    object \n",
      " 8   Fare         775 non-null    float64\n",
      " 9   Sex_male     775 non-null    bool   \n",
      " 10  Embarked_Q   775 non-null    bool   \n",
      " 11  Embarked_S   775 non-null    bool   \n",
      "dtypes: bool(3), float64(2), int64(5), object(2)\n",
      "memory usage: 62.8+ KB\n",
      "None\n",
      "       PassengerId    Survived     Pclass           Age       SibSp  \\\n",
      "count   775.000000  775.000000  775.00000  7.750000e+02  775.000000   \n",
      "mean    445.806452    0.339355    2.48000 -1.833659e-17    0.437419   \n",
      "std     260.116285    0.473796    0.73439  1.000646e+00    0.899838   \n",
      "min       1.000000    0.000000    1.00000 -2.217707e+00    0.000000   \n",
      "25%     213.500000    0.000000    2.00000 -5.283213e-01    0.000000   \n",
      "50%     450.000000    0.000000    3.00000 -5.861258e-02    0.000000   \n",
      "75%     670.500000    1.000000    3.00000  4.110961e-01    1.000000   \n",
      "max     891.000000    1.000000    3.00000  4.012196e+00    5.000000   \n",
      "\n",
      "            Parch          Fare  \n",
      "count  775.000000  7.750000e+02  \n",
      "mean     0.340645 -9.168293e-17  \n",
      "std      0.785914  1.000646e+00  \n",
      "min      0.000000 -1.313411e+00  \n",
      "25%      0.000000 -7.315244e-01  \n",
      "50%      0.000000 -3.553671e-01  \n",
      "75%      0.000000  6.026763e-01  \n",
      "max      6.000000  3.476807e+00  \n"
     ]
    }
   ],
   "source": [
    "\n",
    "print(\"Final Dataset Summary:\")\n",
    "print(df.info())\n",
    "print(df.describe())\n"
   ]
  },
  {
   "cell_type": "code",
   "execution_count": null,
   "id": "f8ad0602-d952-4717-a0be-134ce56bb774",
   "metadata": {},
   "outputs": [],
   "source": []
  }
 ],
 "metadata": {
  "kernelspec": {
   "display_name": "Python 3.11 (custom)",
   "language": "python",
   "name": "python311"
  },
  "language_info": {
   "codemirror_mode": {
    "name": "ipython",
    "version": 3
   },
   "file_extension": ".py",
   "mimetype": "text/x-python",
   "name": "python",
   "nbconvert_exporter": "python",
   "pygments_lexer": "ipython3",
   "version": "3.11.0"
  }
 },
 "nbformat": 4,
 "nbformat_minor": 5
}
